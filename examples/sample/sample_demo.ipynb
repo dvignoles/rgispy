{
 "cells": [
  {
   "cell_type": "code",
   "execution_count": 1,
   "metadata": {},
   "outputs": [],
   "source": [
    "from pathlib import Path \n",
    "import pandas as pd\n",
    "from rgispy.routines.sample import sample_wbm_dsdir, sample_wbm_gdbcdir\n",
    "from rgispy.core import RgisDataStream, RgisPoint, Rgis\n",
    "import os"
   ]
  },
  {
   "cell_type": "code",
   "execution_count": 2,
   "metadata": {
    "vscode": {
     "languageId": "markdown"
    }
   },
   "outputs": [],
   "source": [
    "RGISARCHIVE = Path(os.environ['RGISARCHIVE3'])\n",
    "NETWORK = RGISARCHIVE.joinpath('CONUS/River-Network/HydroSTN30/15min/Static/CONUS_River-Network_HydroSTN30_15min_Static.gdbn.gz')"
   ]
  },
  {
   "cell_type": "code",
   "execution_count": 3,
   "metadata": {
    "vscode": {
     "languageId": "markdown"
    }
   },
   "outputs": [],
   "source": [
    "#rgispy needs a location to store temporary files\n",
    "os.environ['SCRATCH'] = '/scratch/danielv'"
   ]
  },
  {
   "cell_type": "code",
   "execution_count": 4,
   "metadata": {},
   "outputs": [],
   "source": [
    "tmp = Path.cwd().joinpath('tmp_output')\n",
    "if not tmp.exists:\n",
    "    tmp.mkdir()"
   ]
  },
  {
   "cell_type": "markdown",
   "metadata": {},
   "source": [
    "## Conceptual Overview\n",
    "\n",
    "To sample datastream files, you can use the `dsSampling` utility from RGIS. \n",
    "\n",
    "```\n",
    "dsSampling -D <domain>.ds -M <mapper>.mapper -o <output>.gdbt <input>.gds\n",
    "```\n",
    "\n",
    "`<domain>`: The domain is another datastream file representing the domain used. You can call `rgis2domain` on the approrpiate river network `gdbn` file to create the domain. \n",
    "\n",
    "`<mapper>`: The mapper is a sampling feature, such as dam locations, basins, etc. You can create a mapper file by calling `rgis2mapper` on either a `.gdbp` point file or a `.gdbd` network aligned polygon file. \n",
    "\n",
    "`<output>`: The output is a rgis `.gdbt` table with the sampled time series. \n",
    "\n",
    "`<input>`: The input is any uncompressed rgis datastream. \n",
    "\n",
    "All of the CLI commands are available in rgispy to facilitate easier scripting. "
   ]
  },
  {
   "cell_type": "code",
   "execution_count": 5,
   "metadata": {},
   "outputs": [],
   "source": [
    "gdbp_path = tmp.joinpath('dams_15min.gdbp.gz')\n",
    "domain_path = tmp.joinpath('CONUS_15min.gds')\n",
    "mapper_path = tmp.joinpath('dams_15min.mapper')"
   ]
  },
  {
   "cell_type": "markdown",
   "metadata": {},
   "source": [
    "Our sampling locations"
   ]
  },
  {
   "cell_type": "code",
   "execution_count": 6,
   "metadata": {},
   "outputs": [
    {
     "data": {
      "text/html": [
       "<div>\n",
       "<style scoped>\n",
       "    .dataframe tbody tr th:only-of-type {\n",
       "        vertical-align: middle;\n",
       "    }\n",
       "\n",
       "    .dataframe tbody tr th {\n",
       "        vertical-align: top;\n",
       "    }\n",
       "\n",
       "    .dataframe thead th {\n",
       "        text-align: right;\n",
       "    }\n",
       "</style>\n",
       "<table border=\"1\" class=\"dataframe\">\n",
       "  <thead>\n",
       "    <tr style=\"text-align: right;\">\n",
       "      <th></th>\n",
       "      <th>Unnamed: 0</th>\n",
       "      <th>ID</th>\n",
       "      <th>grand_id</th>\n",
       "      <th>XCoord</th>\n",
       "      <th>YCoord</th>\n",
       "    </tr>\n",
       "  </thead>\n",
       "  <tbody>\n",
       "    <tr>\n",
       "      <th>0</th>\n",
       "      <td>0</td>\n",
       "      <td>1</td>\n",
       "      <td>40</td>\n",
       "      <td>-122.375</td>\n",
       "      <td>48.875</td>\n",
       "    </tr>\n",
       "    <tr>\n",
       "      <th>1</th>\n",
       "      <td>1</td>\n",
       "      <td>2</td>\n",
       "      <td>41</td>\n",
       "      <td>-121.125</td>\n",
       "      <td>48.625</td>\n",
       "    </tr>\n",
       "    <tr>\n",
       "      <th>2</th>\n",
       "      <td>2</td>\n",
       "      <td>3</td>\n",
       "      <td>42</td>\n",
       "      <td>-120.375</td>\n",
       "      <td>48.125</td>\n",
       "    </tr>\n",
       "    <tr>\n",
       "      <th>3</th>\n",
       "      <td>3</td>\n",
       "      <td>4</td>\n",
       "      <td>43</td>\n",
       "      <td>-121.375</td>\n",
       "      <td>47.875</td>\n",
       "    </tr>\n",
       "    <tr>\n",
       "      <th>4</th>\n",
       "      <td>4</td>\n",
       "      <td>5</td>\n",
       "      <td>44</td>\n",
       "      <td>-121.375</td>\n",
       "      <td>47.875</td>\n",
       "    </tr>\n",
       "    <tr>\n",
       "      <th>5</th>\n",
       "      <td>5</td>\n",
       "      <td>6</td>\n",
       "      <td>47</td>\n",
       "      <td>-121.625</td>\n",
       "      <td>47.875</td>\n",
       "    </tr>\n",
       "    <tr>\n",
       "      <th>6</th>\n",
       "      <td>6</td>\n",
       "      <td>7</td>\n",
       "      <td>48</td>\n",
       "      <td>-121.875</td>\n",
       "      <td>47.875</td>\n",
       "    </tr>\n",
       "    <tr>\n",
       "      <th>7</th>\n",
       "      <td>7</td>\n",
       "      <td>8</td>\n",
       "      <td>49</td>\n",
       "      <td>-120.125</td>\n",
       "      <td>48.625</td>\n",
       "    </tr>\n",
       "    <tr>\n",
       "      <th>8</th>\n",
       "      <td>8</td>\n",
       "      <td>9</td>\n",
       "      <td>50</td>\n",
       "      <td>-121.625</td>\n",
       "      <td>47.625</td>\n",
       "    </tr>\n",
       "  </tbody>\n",
       "</table>\n",
       "</div>"
      ],
      "text/plain": [
       "   Unnamed: 0  ID  grand_id   XCoord  YCoord\n",
       "0           0   1        40 -122.375  48.875\n",
       "1           1   2        41 -121.125  48.625\n",
       "2           2   3        42 -120.375  48.125\n",
       "3           3   4        43 -121.375  47.875\n",
       "4           4   5        44 -121.375  47.875\n",
       "5           5   6        47 -121.625  47.875\n",
       "6           6   7        48 -121.875  47.875\n",
       "7           7   8        49 -120.125  48.625\n",
       "8           8   9        50 -121.625  47.625"
      ]
     },
     "execution_count": 6,
     "metadata": {},
     "output_type": "execute_result"
    }
   ],
   "source": [
    "dams = pd.read_csv('dams_15min.csv')\n",
    "dams"
   ]
  },
  {
   "cell_type": "markdown",
   "metadata": {},
   "source": [
    "Convert csv -> gdbp -> mapper"
   ]
  },
  {
   "cell_type": "code",
   "execution_count": 7,
   "metadata": {},
   "outputs": [],
   "source": [
    "gdbp = RgisPoint.from_df(dams, xcol='XCoord', ycol='YCoord')\n",
    "gdbp = gdbp.to_file(gdbp_path, gzipped=True, replace_path=True)"
   ]
  },
  {
   "cell_type": "code",
   "execution_count": 8,
   "metadata": {},
   "outputs": [
    {
     "data": {
      "text/plain": [
       "PosixPath('/asrc/ecr/danielv/projects/rgispy/examples/sample/tmp_output/dams_15min.mapper')"
      ]
     },
     "execution_count": 8,
     "metadata": {},
     "output_type": "execute_result"
    }
   ],
   "source": [
    "rgis = Rgis()\n",
    "rgis.rgis2mapper(NETWORK, gdbp, mapper_path)"
   ]
  },
  {
   "cell_type": "markdown",
   "metadata": {},
   "source": [
    "Create domain file"
   ]
  },
  {
   "cell_type": "code",
   "execution_count": 9,
   "metadata": {},
   "outputs": [
    {
     "data": {
      "text/plain": [
       "PosixPath('/asrc/ecr/danielv/projects/rgispy/examples/sample/tmp_output/CONUS_15min.gds')"
      ]
     },
     "execution_count": 9,
     "metadata": {},
     "output_type": "execute_result"
    }
   ],
   "source": [
    "rgis.rgis2domain(NETWORK, domain_path)"
   ]
  },
  {
   "cell_type": "markdown",
   "metadata": {},
   "source": [
    "Do sampling. \n",
    "\n",
    "The NaN value for sample 4 is a result of it being a duplicate sample location. Samples 4 and 5 are the same cell location. dsSampling will only return the value for one of these duplicate locations. "
   ]
  },
  {
   "cell_type": "code",
   "execution_count": 10,
   "metadata": {},
   "outputs": [],
   "source": [
    "gds1980 = RgisDataStream(Path('gds/CONUS_Output_RiverDischarge_DummyExp_15min_dTS1980.gds.gz'))"
   ]
  },
  {
   "cell_type": "code",
   "execution_count": 11,
   "metadata": {},
   "outputs": [
    {
     "data": {
      "text/html": [
       "<div>\n",
       "<style scoped>\n",
       "    .dataframe tbody tr th:only-of-type {\n",
       "        vertical-align: middle;\n",
       "    }\n",
       "\n",
       "    .dataframe tbody tr th {\n",
       "        vertical-align: top;\n",
       "    }\n",
       "\n",
       "    .dataframe thead th {\n",
       "        text-align: right;\n",
       "    }\n",
       "</style>\n",
       "<table border=\"1\" class=\"dataframe\">\n",
       "  <thead>\n",
       "    <tr style=\"text-align: right;\">\n",
       "      <th></th>\n",
       "      <th>ID</th>\n",
       "      <th>Name</th>\n",
       "      <th>SampleID</th>\n",
       "      <th>Date</th>\n",
       "      <th>Value</th>\n",
       "    </tr>\n",
       "  </thead>\n",
       "  <tbody>\n",
       "    <tr>\n",
       "      <th>0</th>\n",
       "      <td>1</td>\n",
       "      <td>Record:1</td>\n",
       "      <td>1</td>\n",
       "      <td>1980-01-01</td>\n",
       "      <td>55.056126</td>\n",
       "    </tr>\n",
       "    <tr>\n",
       "      <th>1</th>\n",
       "      <td>2</td>\n",
       "      <td>Record:2</td>\n",
       "      <td>2</td>\n",
       "      <td>1980-01-01</td>\n",
       "      <td>1.476103</td>\n",
       "    </tr>\n",
       "    <tr>\n",
       "      <th>2</th>\n",
       "      <td>3</td>\n",
       "      <td>Record:3</td>\n",
       "      <td>3</td>\n",
       "      <td>1980-01-01</td>\n",
       "      <td>0.976209</td>\n",
       "    </tr>\n",
       "    <tr>\n",
       "      <th>3</th>\n",
       "      <td>4</td>\n",
       "      <td>Record:4</td>\n",
       "      <td>4</td>\n",
       "      <td>1980-01-01</td>\n",
       "      <td>NaN</td>\n",
       "    </tr>\n",
       "    <tr>\n",
       "      <th>4</th>\n",
       "      <td>5</td>\n",
       "      <td>Record:5</td>\n",
       "      <td>5</td>\n",
       "      <td>1980-01-01</td>\n",
       "      <td>11.689842</td>\n",
       "    </tr>\n",
       "    <tr>\n",
       "      <th>...</th>\n",
       "      <td>...</td>\n",
       "      <td>...</td>\n",
       "      <td>...</td>\n",
       "      <td>...</td>\n",
       "      <td>...</td>\n",
       "    </tr>\n",
       "    <tr>\n",
       "      <th>3289</th>\n",
       "      <td>3290</td>\n",
       "      <td>Record:3290</td>\n",
       "      <td>5</td>\n",
       "      <td>1980-12-31</td>\n",
       "      <td>10.778742</td>\n",
       "    </tr>\n",
       "    <tr>\n",
       "      <th>3290</th>\n",
       "      <td>3291</td>\n",
       "      <td>Record:3291</td>\n",
       "      <td>6</td>\n",
       "      <td>1980-12-31</td>\n",
       "      <td>56.845242</td>\n",
       "    </tr>\n",
       "    <tr>\n",
       "      <th>3291</th>\n",
       "      <td>3292</td>\n",
       "      <td>Record:3292</td>\n",
       "      <td>7</td>\n",
       "      <td>1980-12-31</td>\n",
       "      <td>141.801865</td>\n",
       "    </tr>\n",
       "    <tr>\n",
       "      <th>3292</th>\n",
       "      <td>3293</td>\n",
       "      <td>Record:3293</td>\n",
       "      <td>8</td>\n",
       "      <td>1980-12-31</td>\n",
       "      <td>6.614797</td>\n",
       "    </tr>\n",
       "    <tr>\n",
       "      <th>3293</th>\n",
       "      <td>3294</td>\n",
       "      <td>Record:3294</td>\n",
       "      <td>9</td>\n",
       "      <td>1980-12-31</td>\n",
       "      <td>10.338583</td>\n",
       "    </tr>\n",
       "  </tbody>\n",
       "</table>\n",
       "<p>3294 rows × 5 columns</p>\n",
       "</div>"
      ],
      "text/plain": [
       "        ID         Name  SampleID        Date       Value\n",
       "0        1     Record:1         1  1980-01-01   55.056126\n",
       "1        2     Record:2         2  1980-01-01    1.476103\n",
       "2        3     Record:3         3  1980-01-01    0.976209\n",
       "3        4     Record:4         4  1980-01-01         NaN\n",
       "4        5     Record:5         5  1980-01-01   11.689842\n",
       "...    ...          ...       ...         ...         ...\n",
       "3289  3290  Record:3290         5  1980-12-31   10.778742\n",
       "3290  3291  Record:3291         6  1980-12-31   56.845242\n",
       "3291  3292  Record:3292         7  1980-12-31  141.801865\n",
       "3292  3293  Record:3293         8  1980-12-31    6.614797\n",
       "3293  3294  Record:3294         9  1980-12-31   10.338583\n",
       "\n",
       "[3294 rows x 5 columns]"
      ]
     },
     "execution_count": 11,
     "metadata": {},
     "output_type": "execute_result"
    }
   ],
   "source": [
    "sample1980 = gds1980.dsSampling(domain_path, mapper_path)\n",
    "sample1980.to_file('tmp_output/dams_15min_RiverDischarge_1980dTS.gdbt', replace_path=True)\n",
    "sample1980.df()"
   ]
  },
  {
   "cell_type": "markdown",
   "metadata": {},
   "source": [
    "## Convenience Functions\n",
    "\n",
    "Understanding the above is important for flexibility when scripting. However, you can use these all in one functions in most cases. \n",
    "\n",
    "As of the time of writing, this will only work with directories containing daily datastreams. By default the routine will create daily, monthly, and annual samples. Variables passed in as `accum_vars`, such as Runoff & Precipitation by default, will be summed temporally. All others will be averages temporaly. \n",
    "\n",
    "You can also pass in simple filters such as a year or variable if you wish to subset the datastreams in the directory. "
   ]
  },
  {
   "cell_type": "code",
   "execution_count": 12,
   "metadata": {},
   "outputs": [
    {
     "name": "stdout",
     "output_type": "stream",
     "text": [
      "Help on function sample_wbm_dsdir in module rgispy.routines.sample:\n",
      "\n",
      "sample_wbm_dsdir(dsdir, network, samplers, output_dir, workers=1, ts_aggregate=True, outputs_only=True, ghaas_bin=None, scratch_dir=None, variables=[], accum_vars=['Runoff', 'Precipitation'], compress=False, filters=[])\n",
      "\n"
     ]
    }
   ],
   "source": [
    "help(sample_wbm_dsdir)"
   ]
  },
  {
   "cell_type": "code",
   "execution_count": 13,
   "metadata": {
    "vscode": {
     "languageId": "markdown"
    }
   },
   "outputs": [
    {
     "name": "stdout",
     "output_type": "stream",
     "text": [
      "\n",
      "        Workers: 2\n",
      "        Aggregate Monthly/Annual: True\n",
      "\n",
      "        Domain: CONUS\n",
      "        Resolution: 15min\n",
      "        Experiment: DummyExp\n",
      "        Network: CONUS_River-Network_HydroSTN30_15min_Static.gdbn.gz\n",
      "\n",
      "        Point Variables: RiverDischarge\n",
      "        Zone Variables: \n",
      "        Sum Aggregation Variables: \n",
      "        Samplers: dams_15min.gdbp.gz\n",
      "    \n"
     ]
    },
    {
     "data": {
      "text/plain": [
       "{'dams_15min': {'RiverDischarge': {'dTS': [PosixPath('/asrc/ecr/danielv/projects/rgispy/examples/sample/tmp_output/sample_gds_output/CONUS_DummyExp_15min/15min_CONUS_Output_RiverDischarge_DummyExp_15min_dTS1980.csv'),\n",
       "    PosixPath('/asrc/ecr/danielv/projects/rgispy/examples/sample/tmp_output/sample_gds_output/CONUS_DummyExp_15min/15min_CONUS_Output_RiverDischarge_DummyExp_15min_dTS1981.csv')],\n",
       "   'mTS': [PosixPath('/asrc/ecr/danielv/projects/rgispy/examples/sample/tmp_output/sample_gds_output/CONUS_DummyExp_15min/15min_CONUS_Output_RiverDischarge_DummyExp_15min_mTS1980.csv'),\n",
       "    PosixPath('/asrc/ecr/danielv/projects/rgispy/examples/sample/tmp_output/sample_gds_output/CONUS_DummyExp_15min/15min_CONUS_Output_RiverDischarge_DummyExp_15min_mTS1981.csv')],\n",
       "   'aTS': [PosixPath('/asrc/ecr/danielv/projects/rgispy/examples/sample/tmp_output/sample_gds_output/CONUS_DummyExp_15min/15min_CONUS_Output_RiverDischarge_DummyExp_15min_aTS1980.csv'),\n",
       "    PosixPath('/asrc/ecr/danielv/projects/rgispy/examples/sample/tmp_output/sample_gds_output/CONUS_DummyExp_15min/15min_CONUS_Output_RiverDischarge_DummyExp_15min_aTS1981.csv')]}}}"
      ]
     },
     "execution_count": 13,
     "metadata": {},
     "output_type": "execute_result"
    }
   ],
   "source": [
    "sample_wbm_dsdir(\n",
    "    Path('./gds'),\n",
    "    NETWORK,\n",
    "    [gdbp_path,],\n",
    "    tmp.joinpath('sample_gds_output'),\n",
    "    workers=2\n",
    ")"
   ]
  },
  {
   "cell_type": "markdown",
   "metadata": {},
   "source": [
    "The same functionality is available for gdbc files. These will simply be converted to datastreams using the provided river network before using the same sampling routine."
   ]
  },
  {
   "cell_type": "markdown",
   "metadata": {},
   "source": []
  },
  {
   "cell_type": "code",
   "execution_count": 14,
   "metadata": {},
   "outputs": [
    {
     "name": "stdout",
     "output_type": "stream",
     "text": [
      "\n",
      "        Workers: 2\n",
      "        Aggregate Monthly/Annual: True\n",
      "\n",
      "        Domain: CONUS\n",
      "        Resolution: DummyExp\n",
      "        Experiment: RiverDischarge\n",
      "        Network: CONUS_River-Network_HydroSTN30_15min_Static.gdbn.gz\n",
      "\n",
      "        Point Variables: Output\n",
      "        Zone Variables: Output\n",
      "        Sum Aggregation Variables: \n",
      "        Samplers: dams_15min.gdbp.gz\n",
      "    \n"
     ]
    },
    {
     "data": {
      "text/plain": [
       "{'dams_15min': {'Output': {'dTS': [PosixPath('/asrc/ecr/danielv/projects/rgispy/examples/sample/tmp_output/sample_gdbc_output/CONUS_RiverDischarge_DummyExp/15min_CONUS_Output_RiverDischarge_DummyExp_15min_dTS1980.csv'),\n",
       "    PosixPath('/asrc/ecr/danielv/projects/rgispy/examples/sample/tmp_output/sample_gdbc_output/CONUS_RiverDischarge_DummyExp/15min_CONUS_Output_RiverDischarge_DummyExp_15min_dTS1981.csv')],\n",
       "   'mTS': [PosixPath('/asrc/ecr/danielv/projects/rgispy/examples/sample/tmp_output/sample_gdbc_output/CONUS_RiverDischarge_DummyExp/15min_CONUS_Output_RiverDischarge_DummyExp_15min_mTS1980.csv'),\n",
       "    PosixPath('/asrc/ecr/danielv/projects/rgispy/examples/sample/tmp_output/sample_gdbc_output/CONUS_RiverDischarge_DummyExp/15min_CONUS_Output_RiverDischarge_DummyExp_15min_mTS1981.csv')],\n",
       "   'aTS': [PosixPath('/asrc/ecr/danielv/projects/rgispy/examples/sample/tmp_output/sample_gdbc_output/CONUS_RiverDischarge_DummyExp/15min_CONUS_Output_RiverDischarge_DummyExp_15min_aTS1980.csv'),\n",
       "    PosixPath('/asrc/ecr/danielv/projects/rgispy/examples/sample/tmp_output/sample_gdbc_output/CONUS_RiverDischarge_DummyExp/15min_CONUS_Output_RiverDischarge_DummyExp_15min_aTS1981.csv')]}}}"
      ]
     },
     "execution_count": 14,
     "metadata": {},
     "output_type": "execute_result"
    }
   ],
   "source": [
    "sample_wbm_gdbcdir(\n",
    "    Path('./gdbc'),\n",
    "    NETWORK,\n",
    "    [gdbp_path,],\n",
    "    tmp.joinpath('sample_gdbc_output'),\n",
    "    workers=2\n",
    ")"
   ]
  },
  {
   "cell_type": "markdown",
   "metadata": {},
   "source": [
    "The same functionality is also exposed via the CLI using `rgispySample`"
   ]
  },
  {
   "cell_type": "code",
   "execution_count": 15,
   "metadata": {},
   "outputs": [
    {
     "name": "stdout",
     "output_type": "stream",
     "text": [
      "Usage: rgispySample [OPTIONS] DIRECTORY\n",
      "\n",
      "Options:\n",
      "  -d, --outputdirectory DIRECTORY\n",
      "  -v, --variable TEXT             If specified, filter to these variables\n",
      "  -s, --sampler FILE\n",
      "  -f, --filter TEXT               File name must contain filter str (case\n",
      "                                  insenstive)\n",
      "  -n, --network FILE\n",
      "  -w, --workers INTEGER\n",
      "  -a, --accum-var TEXT\n",
      "  -t, --aggregatetime             Create monthly and annual results from daily\n",
      "  -z, --gzipped                   compress csvs with gzip\n",
      "  -g, --gdbc                      Directory contains gdbc, not datastreams\n",
      "  --help                          Show this message and exit.\n"
     ]
    }
   ],
   "source": [
    "%%bash \n",
    "rgispySample --help"
   ]
  },
  {
   "cell_type": "code",
   "execution_count": 16,
   "metadata": {},
   "outputs": [
    {
     "name": "stdout",
     "output_type": "stream",
     "text": [
      "\n",
      "        Workers: 2\n",
      "        Aggregate Monthly/Annual: False\n",
      "\n",
      "        Domain: CONUS\n",
      "        Resolution: 15min\n",
      "        Experiment: DummyExp\n",
      "        Network: CONUS_River-Network_HydroSTN30_15min_Static.gdbn.gz\n",
      "\n",
      "        Point Variables: RiverDischarge\n",
      "        Zone Variables: \n",
      "        Sum Aggregation Variables: \n",
      "        Samplers: dams_15min.gdbp.gz\n",
      "    \n"
     ]
    }
   ],
   "source": [
    "%%bash -s \"$NETWORK\" \"$gdbp_path\"\n",
    "mkdir -p tmp_output/sample_gds_cli_output\n",
    "rgispySample -d ./tmp_output/sample_gds_cli_output \\\n",
    "    -n $1 \\\n",
    "    -w 2 \\\n",
    "    -s $2 \\\n",
    "    ./gds"
   ]
  },
  {
   "cell_type": "code",
   "execution_count": 17,
   "metadata": {},
   "outputs": [],
   "source": [
    "%%bash\n",
    "# cleanup\n",
    "rm -r tmp_output"
   ]
  }
 ],
 "metadata": {
  "kernelspec": {
   "display_name": "Python 3.10.2",
   "language": "python",
   "name": "python3"
  },
  "language_info": {
   "codemirror_mode": {
    "name": "ipython",
    "version": 3
   },
   "file_extension": ".py",
   "mimetype": "text/x-python",
   "name": "python",
   "nbconvert_exporter": "python",
   "pygments_lexer": "ipython3",
   "version": "3.10.2"
  },
  "orig_nbformat": 4,
  "vscode": {
   "interpreter": {
    "hash": "06a799ebdc31ec59c48d858db47c950c92e8bc802b4a07f564b5c9da101fd7ab"
   }
  }
 },
 "nbformat": 4,
 "nbformat_minor": 2
}
